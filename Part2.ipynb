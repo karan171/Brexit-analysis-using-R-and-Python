{
  "nbformat": 4,
  "nbformat_minor": 0,
  "metadata": {
    "colab": {
      "provenance": []
    },
    "kernelspec": {
      "name": "python3",
      "display_name": "Python 3"
    },
    "language_info": {
      "name": "python"
    }
  },
  "cells": [
    {
      "cell_type": "code",
      "execution_count": null,
      "metadata": {
        "id": "nc-qHfMF-xhO"
      },
      "outputs": [],
      "source": [
        "from keras.preprocessing.text import one_hot\n",
        "from keras.models import Sequential\n",
        "from keras.layers.core import Activation, Dropout, Dense\n",
        "from keras.layers import Flatten\n",
        "from keras.layers import GlobalMaxPooling1D\n",
        "from keras.preprocessing.text import Tokenizer\n",
        "from keras_preprocessing.sequence import pad_sequences\n",
        "import numpy as np\n",
        "from sklearn.model_selection import train_test_split\n",
        "import pandas as pd\n",
        "from keras.layers import Embedding\n",
        "from sklearn.metrics import accuracy_score,confusion_matrix\n",
        "import seaborn as sns\n",
        "import matplotlib.pyplot as plt\n"
      ]
    },
    {
      "cell_type": "code",
      "source": [
        "df_cleaned = pd.read_csv('Cleaned_data.csv')\n"
      ],
      "metadata": {
        "id": "46L-lFJg_YlD"
      },
      "execution_count": null,
      "outputs": []
    },
    {
      "cell_type": "code",
      "source": [
        "df_pro = df_cleaned[df_cleaned['target'] == 'pro'][:10000]\n",
        "df_anti = df_cleaned[df_cleaned['target'] == 'anti'][:10000]\n",
        "df_cluster = df_pro.append(df_anti)\n",
        "df_cluster.reset_index(inplace=True,drop=True)"
      ],
      "metadata": {
        "id": "DIfjoMwD_Yny"
      },
      "execution_count": null,
      "outputs": []
    },
    {
      "cell_type": "code",
      "source": [
        "target_map = {\n",
        "    'pro':1,\n",
        "    'anti':0\n",
        "}\n",
        "\n",
        "sentiment_map = {\n",
        "    'Neutral':0,\n",
        "    'Negative':1,\n",
        "    'Positive':2,\n",
        "    \"Not Rated\":3\n",
        "}\n",
        "df_cluster['target']= df_cluster['target'].map(target_map)\n",
        "df_cluster['Sentiment']= df_cluster['Sentiment'].map(sentiment_map)"
      ],
      "metadata": {
        "id": "gBtFwg-w_YqW"
      },
      "execution_count": null,
      "outputs": []
    },
    {
      "cell_type": "code",
      "source": [
        "df_cluster[['Hit Sentence','target']]"
      ],
      "metadata": {
        "colab": {
          "base_uri": "https://localhost:8080/",
          "height": 424
        },
        "id": "1M7Cj46br4ew",
        "outputId": "c53e7b11-f5bf-46a6-9b08-4329b2fc8a13"
      },
      "execution_count": null,
      "outputs": [
        {
          "output_type": "execute_result",
          "data": {
            "text/plain": [
              "                                            Hit Sentence  target\n",
              "0      stokiedrew find rich tory voters assume unioni...       1\n",
              "1      albundysdad jazzy brexit whole sorry media circus       1\n",
              "2      malc hill jazzy important party still subject ...       1\n",
              "3      inmarshall lord frost expose really see bloc i...       1\n",
              "4      terryoneiljerry paulbranditv peterjukes sugges...       1\n",
              "...                                                  ...     ...\n",
              "19995  baddiel government imply bbc pay something lik...       0\n",
              "19996           thegard could vote referendum would pick       0\n",
              "19997  recover cost brexit billionaires know fund can...       0\n",
              "19998  campbellclaret things tories say defence johns...       0\n",
              "19999  garethineurope one get impression loons panic ...       0\n",
              "\n",
              "[20000 rows x 2 columns]"
            ],
            "text/html": [
              "\n",
              "  <div id=\"df-62b190f3-71ed-4851-b3fa-498476af9840\">\n",
              "    <div class=\"colab-df-container\">\n",
              "      <div>\n",
              "<style scoped>\n",
              "    .dataframe tbody tr th:only-of-type {\n",
              "        vertical-align: middle;\n",
              "    }\n",
              "\n",
              "    .dataframe tbody tr th {\n",
              "        vertical-align: top;\n",
              "    }\n",
              "\n",
              "    .dataframe thead th {\n",
              "        text-align: right;\n",
              "    }\n",
              "</style>\n",
              "<table border=\"1\" class=\"dataframe\">\n",
              "  <thead>\n",
              "    <tr style=\"text-align: right;\">\n",
              "      <th></th>\n",
              "      <th>Hit Sentence</th>\n",
              "      <th>target</th>\n",
              "    </tr>\n",
              "  </thead>\n",
              "  <tbody>\n",
              "    <tr>\n",
              "      <th>0</th>\n",
              "      <td>stokiedrew find rich tory voters assume unioni...</td>\n",
              "      <td>1</td>\n",
              "    </tr>\n",
              "    <tr>\n",
              "      <th>1</th>\n",
              "      <td>albundysdad jazzy brexit whole sorry media circus</td>\n",
              "      <td>1</td>\n",
              "    </tr>\n",
              "    <tr>\n",
              "      <th>2</th>\n",
              "      <td>malc hill jazzy important party still subject ...</td>\n",
              "      <td>1</td>\n",
              "    </tr>\n",
              "    <tr>\n",
              "      <th>3</th>\n",
              "      <td>inmarshall lord frost expose really see bloc i...</td>\n",
              "      <td>1</td>\n",
              "    </tr>\n",
              "    <tr>\n",
              "      <th>4</th>\n",
              "      <td>terryoneiljerry paulbranditv peterjukes sugges...</td>\n",
              "      <td>1</td>\n",
              "    </tr>\n",
              "    <tr>\n",
              "      <th>...</th>\n",
              "      <td>...</td>\n",
              "      <td>...</td>\n",
              "    </tr>\n",
              "    <tr>\n",
              "      <th>19995</th>\n",
              "      <td>baddiel government imply bbc pay something lik...</td>\n",
              "      <td>0</td>\n",
              "    </tr>\n",
              "    <tr>\n",
              "      <th>19996</th>\n",
              "      <td>thegard could vote referendum would pick</td>\n",
              "      <td>0</td>\n",
              "    </tr>\n",
              "    <tr>\n",
              "      <th>19997</th>\n",
              "      <td>recover cost brexit billionaires know fund can...</td>\n",
              "      <td>0</td>\n",
              "    </tr>\n",
              "    <tr>\n",
              "      <th>19998</th>\n",
              "      <td>campbellclaret things tories say defence johns...</td>\n",
              "      <td>0</td>\n",
              "    </tr>\n",
              "    <tr>\n",
              "      <th>19999</th>\n",
              "      <td>garethineurope one get impression loons panic ...</td>\n",
              "      <td>0</td>\n",
              "    </tr>\n",
              "  </tbody>\n",
              "</table>\n",
              "<p>20000 rows × 2 columns</p>\n",
              "</div>\n",
              "      <button class=\"colab-df-convert\" onclick=\"convertToInteractive('df-62b190f3-71ed-4851-b3fa-498476af9840')\"\n",
              "              title=\"Convert this dataframe to an interactive table.\"\n",
              "              style=\"display:none;\">\n",
              "        \n",
              "  <svg xmlns=\"http://www.w3.org/2000/svg\" height=\"24px\"viewBox=\"0 0 24 24\"\n",
              "       width=\"24px\">\n",
              "    <path d=\"M0 0h24v24H0V0z\" fill=\"none\"/>\n",
              "    <path d=\"M18.56 5.44l.94 2.06.94-2.06 2.06-.94-2.06-.94-.94-2.06-.94 2.06-2.06.94zm-11 1L8.5 8.5l.94-2.06 2.06-.94-2.06-.94L8.5 2.5l-.94 2.06-2.06.94zm10 10l.94 2.06.94-2.06 2.06-.94-2.06-.94-.94-2.06-.94 2.06-2.06.94z\"/><path d=\"M17.41 7.96l-1.37-1.37c-.4-.4-.92-.59-1.43-.59-.52 0-1.04.2-1.43.59L10.3 9.45l-7.72 7.72c-.78.78-.78 2.05 0 2.83L4 21.41c.39.39.9.59 1.41.59.51 0 1.02-.2 1.41-.59l7.78-7.78 2.81-2.81c.8-.78.8-2.07 0-2.86zM5.41 20L4 18.59l7.72-7.72 1.47 1.35L5.41 20z\"/>\n",
              "  </svg>\n",
              "      </button>\n",
              "      \n",
              "  <style>\n",
              "    .colab-df-container {\n",
              "      display:flex;\n",
              "      flex-wrap:wrap;\n",
              "      gap: 12px;\n",
              "    }\n",
              "\n",
              "    .colab-df-convert {\n",
              "      background-color: #E8F0FE;\n",
              "      border: none;\n",
              "      border-radius: 50%;\n",
              "      cursor: pointer;\n",
              "      display: none;\n",
              "      fill: #1967D2;\n",
              "      height: 32px;\n",
              "      padding: 0 0 0 0;\n",
              "      width: 32px;\n",
              "    }\n",
              "\n",
              "    .colab-df-convert:hover {\n",
              "      background-color: #E2EBFA;\n",
              "      box-shadow: 0px 1px 2px rgba(60, 64, 67, 0.3), 0px 1px 3px 1px rgba(60, 64, 67, 0.15);\n",
              "      fill: #174EA6;\n",
              "    }\n",
              "\n",
              "    [theme=dark] .colab-df-convert {\n",
              "      background-color: #3B4455;\n",
              "      fill: #D2E3FC;\n",
              "    }\n",
              "\n",
              "    [theme=dark] .colab-df-convert:hover {\n",
              "      background-color: #434B5C;\n",
              "      box-shadow: 0px 1px 3px 1px rgba(0, 0, 0, 0.15);\n",
              "      filter: drop-shadow(0px 1px 2px rgba(0, 0, 0, 0.3));\n",
              "      fill: #FFFFFF;\n",
              "    }\n",
              "  </style>\n",
              "\n",
              "      <script>\n",
              "        const buttonEl =\n",
              "          document.querySelector('#df-62b190f3-71ed-4851-b3fa-498476af9840 button.colab-df-convert');\n",
              "        buttonEl.style.display =\n",
              "          google.colab.kernel.accessAllowed ? 'block' : 'none';\n",
              "\n",
              "        async function convertToInteractive(key) {\n",
              "          const element = document.querySelector('#df-62b190f3-71ed-4851-b3fa-498476af9840');\n",
              "          const dataTable =\n",
              "            await google.colab.kernel.invokeFunction('convertToInteractive',\n",
              "                                                     [key], {});\n",
              "          if (!dataTable) return;\n",
              "\n",
              "          const docLinkHtml = 'Like what you see? Visit the ' +\n",
              "            '<a target=\"_blank\" href=https://colab.research.google.com/notebooks/data_table.ipynb>data table notebook</a>'\n",
              "            + ' to learn more about interactive tables.';\n",
              "          element.innerHTML = '';\n",
              "          dataTable['output_type'] = 'display_data';\n",
              "          await google.colab.output.renderOutput(dataTable, element);\n",
              "          const docLink = document.createElement('div');\n",
              "          docLink.innerHTML = docLinkHtml;\n",
              "          element.appendChild(docLink);\n",
              "        }\n",
              "      </script>\n",
              "    </div>\n",
              "  </div>\n",
              "  "
            ]
          },
          "metadata": {},
          "execution_count": 19
        }
      ]
    },
    {
      "cell_type": "code",
      "source": [
        "#split test and train\n",
        "X_train, X_test, y_train, y_test = train_test_split(df_cluster.drop('target',axis=1), \n",
        "                                                    df_cluster['target'], test_size=0.15, \n",
        "                                                    random_state=42,stratify=df_cluster['target'])"
      ],
      "metadata": {
        "id": "tEsKc65M_EO-"
      },
      "execution_count": null,
      "outputs": []
    },
    {
      "cell_type": "code",
      "source": [
        "  X_train['Hit Sentence'].head()"
      ],
      "metadata": {
        "colab": {
          "base_uri": "https://localhost:8080/"
        },
        "id": "FZ-09C6EBGk8",
        "outputId": "0b1ebba6-f5ac-472b-9e6d-c26b0876b138"
      },
      "execution_count": null,
      "outputs": [
        {
          "output_type": "execute_result",
          "data": {
            "text/plain": [
              "17872    rogue tonight one biggest brexit milestones da...\n",
              "1949     arcaneslim matthew matthancock drrosena empty ...\n",
              "7553     facts euorg shock poll show unionist voters ag...\n",
              "16730    taru sisko fast majority want remain basically...\n",
              "4981     nwdurhambrexit gbnews give johnson whitty vall...\n",
              "Name: Hit Sentence, dtype: object"
            ]
          },
          "metadata": {},
          "execution_count": 9
        }
      ]
    },
    {
      "cell_type": "code",
      "source": [
        "tokenizer = Tokenizer(num_words=5000)\n",
        "tokenizer.fit_on_texts(X_train['Hit Sentence'])\n",
        "\n",
        "X_train = tokenizer.texts_to_sequences(X_train['Hit Sentence'])\n",
        "X_test = tokenizer.texts_to_sequences(X_test['Hit Sentence'])\n"
      ],
      "metadata": {
        "id": "k-Yt-vHgAVu9"
      },
      "execution_count": null,
      "outputs": []
    },
    {
      "cell_type": "code",
      "source": [
        "vocab_size = len(tokenizer.word_index) + 1\n",
        "\n",
        "maxlen = 100\n",
        "\n",
        "X_train = pad_sequences(X_train, padding='post', maxlen=maxlen)\n",
        "X_test = pad_sequences(X_test, padding='post', maxlen=maxlen)"
      ],
      "metadata": {
        "id": "MUFJDa0cAVxh"
      },
      "execution_count": null,
      "outputs": []
    },
    {
      "cell_type": "code",
      "source": [
        "embeddings_dictionary = dict()\n",
        "glove_file = open('glove.6B.100d.txt', encoding=\"utf8\")\n",
        "\n",
        "for line in glove_file:\n",
        "    records = line.split()\n",
        "    word = records[0]\n",
        "    vector_dimensions = np.asarray(records[1:], dtype='float32')\n",
        "    embeddings_dictionary [word] = vector_dimensions\n",
        "glove_file.close()"
      ],
      "metadata": {
        "id": "No8OovPzAPgv"
      },
      "execution_count": null,
      "outputs": []
    },
    {
      "cell_type": "code",
      "source": [
        "embedding_matrix = np.zeros((vocab_size, 100))\n",
        "for word, index in tokenizer.word_index.items():\n",
        "    embedding_vector = embeddings_dictionary.get(word)\n",
        "    if embedding_vector is not None:\n",
        "        embedding_matrix[index] = embedding_vector\n"
      ],
      "metadata": {
        "id": "Gq8RmlnMAPpF"
      },
      "execution_count": null,
      "outputs": []
    },
    {
      "cell_type": "code",
      "source": [
        "embedding_matrix"
      ],
      "metadata": {
        "colab": {
          "base_uri": "https://localhost:8080/"
        },
        "id": "wyRk5lMDrava",
        "outputId": "5d082208-2b26-4b85-ab51-f2d3db341e01"
      },
      "execution_count": null,
      "outputs": [
        {
          "output_type": "execute_result",
          "data": {
            "text/plain": [
              "array([[ 0.        ,  0.        ,  0.        , ...,  0.        ,\n",
              "         0.        ,  0.        ],\n",
              "       [ 0.        ,  0.        ,  0.        , ...,  0.        ,\n",
              "         0.        ,  0.        ],\n",
              "       [ 0.14432999,  0.43950999,  0.58323997, ...,  0.50133997,\n",
              "         0.49535999,  0.49919999],\n",
              "       ...,\n",
              "       [-0.083894  , -0.065695  ,  0.64607   , ..., -0.72079003,\n",
              "        -0.23582999,  0.65094   ],\n",
              "       [-0.19058999, -0.44578001,  0.15765999, ..., -0.10878   ,\n",
              "         0.18716   ,  0.46686   ],\n",
              "       [ 0.        ,  0.        ,  0.        , ...,  0.        ,\n",
              "         0.        ,  0.        ]])"
            ]
          },
          "metadata": {},
          "execution_count": 18
        }
      ]
    },
    {
      "cell_type": "code",
      "source": [
        "model = Sequential()\n",
        "embedding_layer = Embedding(vocab_size, 100, weights=[embedding_matrix], input_length=maxlen , trainable=False)\n",
        "model.add(embedding_layer)\n",
        "\n",
        "model.add(Flatten())\n",
        "model.add(Dense(1, activation='sigmoid'))\n"
      ],
      "metadata": {
        "id": "Nq_mqqoBAjAs"
      },
      "execution_count": null,
      "outputs": []
    },
    {
      "cell_type": "code",
      "source": [
        "model.compile(optimizer='adam', loss='binary_crossentropy', metrics=['acc'])\n",
        "\n",
        "print(model.summary())"
      ],
      "metadata": {
        "id": "ZlV20nihAjGo",
        "colab": {
          "base_uri": "https://localhost:8080/"
        },
        "outputId": "c1cca46a-a602-4d88-a561-580dd565b81f"
      },
      "execution_count": null,
      "outputs": [
        {
          "output_type": "stream",
          "name": "stdout",
          "text": [
            "Model: \"sequential_3\"\n",
            "_________________________________________________________________\n",
            " Layer (type)                Output Shape              Param #   \n",
            "=================================================================\n",
            " embedding_2 (Embedding)     (None, 100, 100)          2007900   \n",
            "                                                                 \n",
            " flatten_2 (Flatten)         (None, 10000)             0         \n",
            "                                                                 \n",
            " dense_2 (Dense)             (None, 1)                 10001     \n",
            "                                                                 \n",
            "=================================================================\n",
            "Total params: 2,017,901\n",
            "Trainable params: 10,001\n",
            "Non-trainable params: 2,007,900\n",
            "_________________________________________________________________\n",
            "None\n"
          ]
        }
      ]
    },
    {
      "cell_type": "code",
      "source": [
        "history = model.fit(X_train, y_train, batch_size=64, epochs=10, verbose=1, validation_split=0.2)\n"
      ],
      "metadata": {
        "id": "W4oPkyY9AsJH",
        "colab": {
          "base_uri": "https://localhost:8080/"
        },
        "outputId": "0d611eff-ee4b-44a0-8c7a-a078d37ee046"
      },
      "execution_count": null,
      "outputs": [
        {
          "output_type": "stream",
          "name": "stdout",
          "text": [
            "Epoch 1/10\n",
            "213/213 [==============================] - 2s 6ms/step - loss: 0.6091 - acc: 0.6564 - val_loss: 0.5746 - val_acc: 0.6950\n",
            "Epoch 2/10\n",
            "213/213 [==============================] - 1s 5ms/step - loss: 0.5181 - acc: 0.7421 - val_loss: 0.5498 - val_acc: 0.7141\n",
            "Epoch 3/10\n",
            "213/213 [==============================] - 1s 5ms/step - loss: 0.4814 - acc: 0.7669 - val_loss: 0.5404 - val_acc: 0.7235\n",
            "Epoch 4/10\n",
            "213/213 [==============================] - 1s 6ms/step - loss: 0.4575 - acc: 0.7832 - val_loss: 0.5389 - val_acc: 0.7259\n",
            "Epoch 5/10\n",
            "213/213 [==============================] - 1s 5ms/step - loss: 0.4416 - acc: 0.7924 - val_loss: 0.5329 - val_acc: 0.7271\n",
            "Epoch 6/10\n",
            "213/213 [==============================] - 1s 6ms/step - loss: 0.4273 - acc: 0.8002 - val_loss: 0.5330 - val_acc: 0.7329\n",
            "Epoch 7/10\n",
            "213/213 [==============================] - 1s 5ms/step - loss: 0.4173 - acc: 0.8044 - val_loss: 0.5345 - val_acc: 0.7315\n",
            "Epoch 8/10\n",
            "213/213 [==============================] - 1s 6ms/step - loss: 0.4097 - acc: 0.8085 - val_loss: 0.5337 - val_acc: 0.7353\n",
            "Epoch 9/10\n",
            "213/213 [==============================] - 1s 5ms/step - loss: 0.4013 - acc: 0.8141 - val_loss: 0.5368 - val_acc: 0.7347\n",
            "Epoch 10/10\n",
            "213/213 [==============================] - 1s 5ms/step - loss: 0.3947 - acc: 0.8168 - val_loss: 0.5419 - val_acc: 0.7421\n"
          ]
        }
      ]
    },
    {
      "cell_type": "code",
      "source": [
        "preds_test = model.predict(X_test)"
      ],
      "metadata": {
        "id": "xOktBHJ6Avlm",
        "colab": {
          "base_uri": "https://localhost:8080/"
        },
        "outputId": "c553a3b7-e7b7-432a-8fe4-c8515be0c3e6"
      },
      "execution_count": null,
      "outputs": [
        {
          "output_type": "stream",
          "name": "stdout",
          "text": [
            "94/94 [==============================] - 1s 5ms/step\n"
          ]
        }
      ]
    },
    {
      "cell_type": "code",
      "source": [
        "preds = []\n",
        "for i in preds_test:\n",
        "  if i<=0.5:\n",
        "    preds.append(0)\n",
        "  else:\n",
        "    preds.append(1)"
      ],
      "metadata": {
        "id": "ovbAdDMGEAzl"
      },
      "execution_count": null,
      "outputs": []
    },
    {
      "cell_type": "code",
      "source": [
        "accuracy_score(y_pred=preds,y_true=y_test)"
      ],
      "metadata": {
        "colab": {
          "base_uri": "https://localhost:8080/"
        },
        "id": "yl7bklh_ElvB",
        "outputId": "1da9c258-1b53-4e82-d79d-286715627f74"
      },
      "execution_count": null,
      "outputs": [
        {
          "output_type": "execute_result",
          "data": {
            "text/plain": [
              "0.7523333333333333"
            ]
          },
          "metadata": {},
          "execution_count": 59
        }
      ]
    },
    {
      "cell_type": "code",
      "source": [
        "data = confusion_matrix(y_test, preds)\n",
        "df_cm = pd.DataFrame(data, columns=np.unique(y_test), index = np.unique(y_test))\n",
        "df_cm.index.name = 'Actual'\n",
        "df_cm.columns.name = 'Predicted'\n",
        "plt.figure(figsize = (10,7))\n",
        "sns.set(font_scale=1.4)#for label size\n",
        "sns.heatmap(df_cm, cmap=\"Blues\", annot=True,fmt='g').set(title='Neural Network')"
      ],
      "metadata": {
        "id": "mDAftM3iAvos",
        "colab": {
          "base_uri": "https://localhost:8080/",
          "height": 496
        },
        "outputId": "860b8bef-d53c-4440-a4da-c16481cae49c"
      },
      "execution_count": null,
      "outputs": [
        {
          "output_type": "execute_result",
          "data": {
            "text/plain": [
              "[Text(0.5, 1.0, 'Neural Network')]"
            ]
          },
          "metadata": {},
          "execution_count": 65
        },
        {
          "output_type": "display_data",
          "data": {
            "text/plain": [
              "<Figure size 720x504 with 2 Axes>"
            ],
            "image/png": "[encoded data removed]"
          },
          "metadata": {}
        }
      ]
    },
    {
      "cell_type": "code",
      "source": [],
      "metadata": {
        "id": "NA14dXi0E5Sa"
      },
      "execution_count": null,
      "outputs": []
    }
  ]
}